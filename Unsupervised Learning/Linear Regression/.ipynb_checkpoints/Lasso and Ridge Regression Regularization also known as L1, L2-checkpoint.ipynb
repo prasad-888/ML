{
 "cells": [
  {
   "cell_type": "markdown",
   "id": "2422b332-9ef5-409f-9b1c-051fa08f45bf",
   "metadata": {},
   "source": [
    "# [linkdatacamp](https://www.datacamp.com/tutorial/tutorial-lasso-ridge-regression)\n",
    "Learnt using above article\n"
   ]
  },
  {
   "cell_type": "markdown",
   "id": "13770759-c72c-41fa-a8b1-20db786b855f",
   "metadata": {},
   "source": [
    "# When error -> Predicted - actual\n",
    "# When bias -> Actual- predicted\n",
    "# predicted -> \"^\" has this sign"
   ]
  },
  {
   "cell_type": "code",
   "execution_count": null,
   "id": "c5eaa575-e971-42df-99d1-b1e7331b822d",
   "metadata": {},
   "outputs": [],
   "source": []
  },
  {
   "cell_type": "markdown",
   "id": "b30956d4-1ace-49b4-abca-bc181529c3f9",
   "metadata": {},
   "source": [
    "# Lasso L1"
   ]
  },
  {
   "cell_type": "code",
   "execution_count": null,
   "id": "a58e169a-8106-439d-8eab-dff3e463d156",
   "metadata": {},
   "outputs": [],
   "source": []
  }
 ],
 "metadata": {
  "kernelspec": {
   "display_name": "Python 3 (ipykernel)",
   "language": "python",
   "name": "python3"
  },
  "language_info": {
   "codemirror_mode": {
    "name": "ipython",
    "version": 3
   },
   "file_extension": ".py",
   "mimetype": "text/x-python",
   "name": "python",
   "nbconvert_exporter": "python",
   "pygments_lexer": "ipython3",
   "version": "3.12.3"
  }
 },
 "nbformat": 4,
 "nbformat_minor": 5
}
