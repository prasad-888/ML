{
 "cells": [
  {
   "cell_type": "markdown",
   "id": "1ed0f628-9e01-4ec7-ac75-6290fabcd18d",
   "metadata": {},
   "source": [
    "### Iteration 1\n",
    "\n",
    "**Predictions:**\n",
    "\n",
    "$$\n",
    "\\hat{y}^A = 0, \\quad \\hat{y}^B = 0, \\quad \\hat{y}^C = 0\n",
    "$$\n",
    "\n",
    "**Residuals:**\n",
    "\n",
    "$$\n",
    "\\text{Residual}_A = 12000 - 0 = 12000\n",
    "$$\n",
    "$$\n",
    "\\text{Residual}_B = 15000 - 0 = 15000\n",
    "$$\n",
    "$$\n",
    "\\text{Residual}_C = 20000 - 0 = 20000\n",
    "$$\n",
    "\n",
    "**Gradients:**\n",
    "\n",
    "$$\n",
    "\\frac{\\partial J}{\\partial \\beta_0} = -\\frac{2}{3}(12000 + 15000 + 20000) = -31000\n",
    "$$\n",
    "$$\n",
    "\\frac{\\partial J}{\\partial \\beta_1} = -\\frac{2}{3}(12000 \\cdot 2 + 15000 \\cdot 5 + 20000 \\cdot 10) = -290000\n",
    "$$\n",
    "\n",
    "**Update Coefficients:**\n",
    "\n",
    "$$\n",
    "\\beta_0 = 0 - 0.001 \\cdot (-31000) = 31\n",
    "$$\n",
    "$$\n",
    "\\beta_1 = 0 - 0.001 \\cdot (-290000) = 290\n",
    "$$\n",
    "\n",
    "**Next Predictions:**\n",
    "\n",
    "$$\n",
    "\\hat{y}^A = 31 + 290 \\cdot 2 = 611\n",
    "$$\n",
    "$$\n",
    "\\hat{y}^B = 31 + 290 \\cdot 5 = 1481\n",
    "$$\n",
    "$$\n",
    "\\hat{y}^C = 31 + 290 \\cdot 10 = 2931\n",
    "$$\n",
    "\n",
    "---\n",
    "\n",
    "**Repeating the Process:**  \n",
    "With each iteration, $\\beta_0$ and $\\beta_1$ move closer to the optimal values, reducing the loss.\n"
   ]
  },
  {
   "cell_type": "code",
   "execution_count": null,
   "id": "b6a5c721-cb2d-457a-b86c-da50aaf902cc",
   "metadata": {},
   "outputs": [],
   "source": []
  }
 ],
 "metadata": {
  "kernelspec": {
   "display_name": "Python 3 (ipykernel)",
   "language": "python",
   "name": "python3"
  },
  "language_info": {
   "codemirror_mode": {
    "name": "ipython",
    "version": 3
   },
   "file_extension": ".py",
   "mimetype": "text/x-python",
   "name": "python",
   "nbconvert_exporter": "python",
   "pygments_lexer": "ipython3",
   "version": "3.12.3"
  }
 },
 "nbformat": 4,
 "nbformat_minor": 5
}
