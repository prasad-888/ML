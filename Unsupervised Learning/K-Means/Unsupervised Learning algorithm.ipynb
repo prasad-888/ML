{
 "cells": [
  {
   "cell_type": "code",
   "execution_count": null,
   "id": "462e0d0e-c63a-4f98-8a3d-cd1e147a8489",
   "metadata": {},
   "outputs": [],
   "source": []
  }
 ],
 "metadata": {
  "kernelspec": {
   "display_name": "Python 3 (ipykernel)",
   "language": "python",
   "name": "python3"
  },
  "language_info": {
   "codemirror_mode": {
    "name": "ipython",
    "version": 3
   },
   "file_extension": ".py",
   "mimetype": "text/x-python",
   "name": "python",
   "nbconvert_exporter": "python",
   "pygments_lexer": "ipython3",
   "version": "3.12.3"
  }
 },
 "nbformat": 4,
 "nbformat_minor": 5
}
