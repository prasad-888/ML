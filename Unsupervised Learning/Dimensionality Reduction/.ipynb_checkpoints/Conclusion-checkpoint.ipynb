{
 "cells": [
  {
   "cell_type": "markdown",
   "id": "e0b0bc5f-5fbb-46b8-83ae-0aa6c49a1394",
   "metadata": {},
   "source": [
    "1. __PCA__: A straightforward, linear method that works well for capturing variance.\n",
    "2. __LDA__: A supervised approach for maximizing class separability.\n",
    "3. __t-SNE__: A non-linear technique perfect for visualization.\n",
    "\n",
    "__Real-Life Applications__\n",
    "* __PCA__:\n",
    "Image compression\n",
    "Genomics analysis\n",
    "* __LDA__:\n",
    "Document classification\n",
    "Fraud detection\n",
    "* __t-SNE__:\n",
    "Visualizing word embeddings\n",
    "Customer segmentation"
   ]
  },
  {
   "cell_type": "code",
   "execution_count": null,
   "id": "7fbac65e-6e25-44ba-af3c-835ac045fb8a",
   "metadata": {},
   "outputs": [],
   "source": []
  }
 ],
 "metadata": {
  "kernelspec": {
   "display_name": "Python 3 (ipykernel)",
   "language": "python",
   "name": "python3"
  },
  "language_info": {
   "codemirror_mode": {
    "name": "ipython",
    "version": 3
   },
   "file_extension": ".py",
   "mimetype": "text/x-python",
   "name": "python",
   "nbconvert_exporter": "python",
   "pygments_lexer": "ipython3",
   "version": "3.12.3"
  }
 },
 "nbformat": 4,
 "nbformat_minor": 5
}
