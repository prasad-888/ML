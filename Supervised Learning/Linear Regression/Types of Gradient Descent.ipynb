{
 "cells": [
  {
   "cell_type": "markdown",
   "id": "54f775ae-ff06-47c0-82a3-187757ad98f7",
   "metadata": {},
   "source": [
    "1) SGD\n",
    "2) Batch\n",
    "3) Mini Batch"
   ]
  },
  {
   "cell_type": "markdown",
   "id": "548cc9e3-054d-423e-baa7-abec894877b8",
   "metadata": {},
   "source": [
    "There is campus x video of this approximately 1 hr he has explained it nicely\n"
   ]
  },
  {
   "cell_type": "code",
   "execution_count": null,
   "id": "91b52af1-3790-4f98-984c-0ede7da53480",
   "metadata": {},
   "outputs": [],
   "source": []
  }
 ],
 "metadata": {
  "kernelspec": {
   "display_name": "Python 3 (ipykernel)",
   "language": "python",
   "name": "python3"
  },
  "language_info": {
   "codemirror_mode": {
    "name": "ipython",
    "version": 3
   },
   "file_extension": ".py",
   "mimetype": "text/x-python",
   "name": "python",
   "nbconvert_exporter": "python",
   "pygments_lexer": "ipython3",
   "version": "3.12.3"
  }
 },
 "nbformat": 4,
 "nbformat_minor": 5
}
