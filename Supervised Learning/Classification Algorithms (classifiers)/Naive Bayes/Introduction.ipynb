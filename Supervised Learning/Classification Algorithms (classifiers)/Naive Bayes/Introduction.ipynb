{
 "cells": [
  {
   "cell_type": "markdown",
   "id": "5f918725-11e8-4984-a8f5-e55a862100cc",
   "metadata": {},
   "source": [
    "### Introduction\n",
    "Naive Bayes is a machine learning algorithm for classification problems. It is based on Bayes’ probability theorem. It is primarily used for text classification which involves high dimensional training data sets. A few examples of text classification are __spam filtration, sentimental analysis, and classifying news articles.__\n",
    "\n",
    "Naive Bayes is not only known for its simplicity, but also for its effectiveness. It is fast to build models and make predictions with Naive Bayes algorithm. Naive Bayes is the first algorithm that should be considered for solving text classification problem. Hence, you should learn this algorithm thoroughly.\n",
    "\n",
    "These classifiers are called **naive**, because they assume that __features are conditionally independent from each other.__\n",
    "\n",
    "Imagine two people Ramesh and Suresh whose word usage pattern you know. To keep example simple, lets assume that __Ramesh__ uses combination of three words __[love, great, wonderful]__ more often and __Suresh__ uses words __[dog, ball, wonderful]__ often.\n",
    "\n",
    "Lets assume you received and anonymous email whose sender can be either __Ramesh__ or __Suresh__. Lets say the content of email is __“I love beach sand. Additionally the sunset at beach offers wonderful view”__"
   ]
  },
  {
   "cell_type": "code",
   "execution_count": null,
   "id": "fbb5ab0b-a2fa-454a-ad58-f5a7278f1cd0",
   "metadata": {},
   "outputs": [],
   "source": []
  },
  {
   "cell_type": "code",
   "execution_count": null,
   "id": "d03a1404-5b58-4cc4-9a51-c560618c2f77",
   "metadata": {},
   "outputs": [],
   "source": []
  }
 ],
 "metadata": {
  "kernelspec": {
   "display_name": "Python 3 (ipykernel)",
   "language": "python",
   "name": "python3"
  },
  "language_info": {
   "codemirror_mode": {
    "name": "ipython",
    "version": 3
   },
   "file_extension": ".py",
   "mimetype": "text/x-python",
   "name": "python",
   "nbconvert_exporter": "python",
   "pygments_lexer": "ipython3",
   "version": "3.12.7"
  }
 },
 "nbformat": 4,
 "nbformat_minor": 5
}
