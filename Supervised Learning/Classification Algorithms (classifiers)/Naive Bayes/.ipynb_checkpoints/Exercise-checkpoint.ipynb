{
 "cells": [
  {
   "cell_type": "markdown",
   "id": "a7f38142-39f7-4ac4-80fb-b69cefab3f0d",
   "metadata": {},
   "source": [
    "### Exercise\n"
   ]
  },
  {
   "cell_type": "markdown",
   "id": "4d361b8f-b74c-4987-b797-e4af697c9518",
   "metadata": {},
   "source": [
    "Here is [the dataset](https://www.kaggle.com/datasets/datasnaek/mbti-type) from kaggle for you to work your text classification.\n",
    " \n",
    "__Questionaire__\n",
    "1. What Bayes Theorem?\n",
    "\n",
    "2. Why NB classifier is fast in compared with SVM?\n",
    "\n",
    "3. What different type of vectorizers are there? And how do they added “variable sentence length” problem?\n",
    "\n",
    "4. Why Laplace Transformation is used in NB Classifier?\n",
    "\n",
    "5. Why do we need different evaluation metrics? Explain difference between Recall and Precision?"
   ]
  },
  {
   "cell_type": "code",
   "execution_count": 8,
   "id": "712d2e9f-180b-4c1c-a95d-f7133ecf2da6",
   "metadata": {},
   "outputs": [],
   "source": [
    "import pandas as pd\n",
    "import numpy as np\n",
    "import matplotlib.pyplot as plt\n",
    "import seaborn as sns\n",
    "%matplotlib inline"
   ]
  },
  {
   "cell_type": "code",
   "execution_count": 10,
   "id": "6af3d008-7d2c-45db-ad41-4dc0f4a74309",
   "metadata": {},
   "outputs": [],
   "source": [
    "df = pd.read_csv(r\"C:\\Users\\Prasad\\Desktop\\ml\\data_ml\\mbti_1.csv\")"
   ]
  },
  {
   "cell_type": "code",
   "execution_count": 12,
   "id": "b3e63251-3e6c-4647-a699-37442b30a2d5",
   "metadata": {},
   "outputs": [
    {
     "data": {
      "text/html": [
       "<div>\n",
       "<style scoped>\n",
       "    .dataframe tbody tr th:only-of-type {\n",
       "        vertical-align: middle;\n",
       "    }\n",
       "\n",
       "    .dataframe tbody tr th {\n",
       "        vertical-align: top;\n",
       "    }\n",
       "\n",
       "    .dataframe thead th {\n",
       "        text-align: right;\n",
       "    }\n",
       "</style>\n",
       "<table border=\"1\" class=\"dataframe\">\n",
       "  <thead>\n",
       "    <tr style=\"text-align: right;\">\n",
       "      <th></th>\n",
       "      <th>type</th>\n",
       "      <th>posts</th>\n",
       "    </tr>\n",
       "  </thead>\n",
       "  <tbody>\n",
       "    <tr>\n",
       "      <th>0</th>\n",
       "      <td>INFJ</td>\n",
       "      <td>'http://www.youtube.com/watch?v=qsXHcwe3krw|||...</td>\n",
       "    </tr>\n",
       "    <tr>\n",
       "      <th>1</th>\n",
       "      <td>ENTP</td>\n",
       "      <td>'I'm finding the lack of me in these posts ver...</td>\n",
       "    </tr>\n",
       "    <tr>\n",
       "      <th>2</th>\n",
       "      <td>INTP</td>\n",
       "      <td>'Good one  _____   https://www.youtube.com/wat...</td>\n",
       "    </tr>\n",
       "    <tr>\n",
       "      <th>3</th>\n",
       "      <td>INTJ</td>\n",
       "      <td>'Dear INTP,   I enjoyed our conversation the o...</td>\n",
       "    </tr>\n",
       "    <tr>\n",
       "      <th>4</th>\n",
       "      <td>ENTJ</td>\n",
       "      <td>'You're fired.|||That's another silly misconce...</td>\n",
       "    </tr>\n",
       "  </tbody>\n",
       "</table>\n",
       "</div>"
      ],
      "text/plain": [
       "   type                                              posts\n",
       "0  INFJ  'http://www.youtube.com/watch?v=qsXHcwe3krw|||...\n",
       "1  ENTP  'I'm finding the lack of me in these posts ver...\n",
       "2  INTP  'Good one  _____   https://www.youtube.com/wat...\n",
       "3  INTJ  'Dear INTP,   I enjoyed our conversation the o...\n",
       "4  ENTJ  'You're fired.|||That's another silly misconce..."
      ]
     },
     "execution_count": 12,
     "metadata": {},
     "output_type": "execute_result"
    }
   ],
   "source": [
    "df.head()"
   ]
  },
  {
   "cell_type": "code",
   "execution_count": 14,
   "id": "5596e4d4-6819-490a-9328-415fee0f1ace",
   "metadata": {},
   "outputs": [],
   "source": [
    "X = df['posts']\n",
    "y = df['type']"
   ]
  },
  {
   "cell_type": "code",
   "execution_count": 16,
   "id": "9a745887-cafc-4654-b7d1-1c1ee647434b",
   "metadata": {},
   "outputs": [
    {
     "data": {
      "text/plain": [
       "(0    'http://www.youtube.com/watch?v=qsXHcwe3krw|||...\n",
       " 1    'I'm finding the lack of me in these posts ver...\n",
       " 2    'Good one  _____   https://www.youtube.com/wat...\n",
       " 3    'Dear INTP,   I enjoyed our conversation the o...\n",
       " 4    'You're fired.|||That's another silly misconce...\n",
       " Name: posts, dtype: object,\n",
       " 0    INFJ\n",
       " 1    ENTP\n",
       " 2    INTP\n",
       " 3    INTJ\n",
       " 4    ENTJ\n",
       " Name: type, dtype: object)"
      ]
     },
     "execution_count": 16,
     "metadata": {},
     "output_type": "execute_result"
    }
   ],
   "source": [
    "X.head(), y.head()"
   ]
  },
  {
   "cell_type": "code",
   "execution_count": 22,
   "id": "731610f6-f980-4341-999a-2361001819f4",
   "metadata": {},
   "outputs": [],
   "source": [
    "from sklearn.model_selection import train_test_split\n",
    "from sklearn.feature_extraction.text import TfidfVectorizer, CountVectorizer\n",
    "from sklearn.neighbors import KNeighborsClassifier\n",
    "from sklearn.svm import SVC\n",
    "from sklearn.naive_bayes import GaussianNB\n",
    "\n"
   ]
  },
  {
   "cell_type": "code",
   "execution_count": 24,
   "id": "01ad9ba1-92e1-45d6-9923-2885a63e6f27",
   "metadata": {},
   "outputs": [
    {
     "data": {
      "text/plain": [
       "((8675,), (8675,))"
      ]
     },
     "execution_count": 24,
     "metadata": {},
     "output_type": "execute_result"
    }
   ],
   "source": [
    "X.shape, y.shape"
   ]
  },
  {
   "cell_type": "code",
   "execution_count": 26,
   "id": "bc5f6405-8709-4867-9e40-5d0ad8ae7aeb",
   "metadata": {},
   "outputs": [
    {
     "data": {
      "text/plain": [
       "array([[0, 0, 0, ..., 0, 0, 0],\n",
       "       [1, 1, 0, ..., 0, 0, 0],\n",
       "       [0, 1, 0, ..., 1, 0, 0],\n",
       "       [0, 0, 0, ..., 0, 0, 0],\n",
       "       [0, 0, 0, ..., 0, 0, 0]], dtype=int64)"
      ]
     },
     "execution_count": 26,
     "metadata": {},
     "output_type": "execute_result"
    }
   ],
   "source": [
    "vect = CountVectorizer(ngram_range=(1,3), min_df=5, max_features=8000)\n",
    "X_vec = vect.fit_transform(X).toarray();\n",
    "X_vec[:5]"
   ]
  },
  {
   "cell_type": "code",
   "execution_count": 30,
   "id": "be6954d2-aa20-4c41-8897-302eb4b645f0",
   "metadata": {},
   "outputs": [
    {
     "data": {
      "text/plain": [
       "(8675, 8000)"
      ]
     },
     "execution_count": 30,
     "metadata": {},
     "output_type": "execute_result"
    }
   ],
   "source": [
    "X_vec.shape\n"
   ]
  },
  {
   "cell_type": "code",
   "execution_count": 32,
   "id": "6a9736e3-e5e9-4a6f-b97e-80e89b1e7bad",
   "metadata": {},
   "outputs": [],
   "source": [
    "X_train, X_test, y_train, y_test = train_test_split(X_vec, y, random_state=0)"
   ]
  },
  {
   "cell_type": "code",
   "execution_count": 36,
   "id": "45bbd0d8-a4d7-4f05-beb6-6cab6e61bb4c",
   "metadata": {},
   "outputs": [
    {
     "name": "stdout",
     "output_type": "stream",
     "text": [
      "CPU times: total: 12.2 s\n",
      "Wall time: 12.4 s\n"
     ]
    },
    {
     "data": {
      "text/plain": [
       "(0.7758991699969259, 0.34071000461041956)"
      ]
     },
     "execution_count": 36,
     "metadata": {},
     "output_type": "execute_result"
    }
   ],
   "source": [
    "%%time\n",
    "\n",
    "nb = GaussianNB()\n",
    "nb.fit(X_train,y_train)\n",
    "nb.score(X_train,y_train), nb.score(X_test, y_test)"
   ]
  },
  {
   "cell_type": "code",
   "execution_count": 40,
   "id": "96f1bdbe-957d-43bc-b6c5-a39a0a2045b7",
   "metadata": {},
   "outputs": [
    {
     "data": {
      "text/plain": [
       "array(['ESFJ'], dtype='<U4')"
      ]
     },
     "execution_count": 40,
     "metadata": {},
     "output_type": "execute_result"
    }
   ],
   "source": [
    "sample = ' HI everyone nice to see you all here.'\n",
    "vec = vect.transform([sample]).toarray()\n",
    "nb.predict(vec)"
   ]
  },
  {
   "cell_type": "code",
   "execution_count": null,
   "id": "aceb754e-d4e4-4034-ac2a-b0c5124c46e9",
   "metadata": {},
   "outputs": [],
   "source": [
    "print(\"Welcome to predicting your personality type using \")"
   ]
  }
 ],
 "metadata": {
  "kernelspec": {
   "display_name": "Python 3 (ipykernel)",
   "language": "python",
   "name": "python3"
  },
  "language_info": {
   "codemirror_mode": {
    "name": "ipython",
    "version": 3
   },
   "file_extension": ".py",
   "mimetype": "text/x-python",
   "name": "python",
   "nbconvert_exporter": "python",
   "pygments_lexer": "ipython3",
   "version": "3.12.7"
  }
 },
 "nbformat": 4,
 "nbformat_minor": 5
}
