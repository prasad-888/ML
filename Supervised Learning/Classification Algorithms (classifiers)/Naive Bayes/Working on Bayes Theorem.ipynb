{
 "cells": [
  {
   "attachments": {
    "d4c5a348-d04f-4fdf-bd0e-ab994772dbda.gif": {
     "image/gif": "[encoded data removed]"
    },
    "dad396ac-30df-482b-99d5-26a411aa4fcd.gif": {
     "image/gif": "[encoded data removed]"
    }
   },
   "cell_type": "markdown",
   "id": "3a5d09a7-c39c-4bb6-9606-4b6eeba93ae2",
   "metadata": {},
   "source": [
    "### Working of Bayes Theorem\n",
    "![nb1.gif](attachment:d4c5a348-d04f-4fdf-bd0e-ab994772dbda.gif)\n",
    "\n",
    "To demonstrate the concept of Naïve Bayes Classification, consider the example displayed in the illustration above. As indicated, the objects can be classified as either GREEN or RED. Our task is to classify new cases as they arrive, i.e., decide to which class label they belong, based on the currently exiting objects.\n",
    "\n",
    "Since there are twice as many **GREEN** objects as **RED**, it is reasonable to believe that a new case (which hasn’t been observed yet) is twice as likely to be a member of GREEN rather than RED. In the Bayesian analysis, this belief is known as the **prior probability**. Prior probabilities are based on previous experience, in this case the percentage of GREEN and RED objects, and often used to predict outcomes before they actually happen.\n",
    "\n",
    "Thus, you can write:\n",
    "\n",
    "**Prior Probablity  of GREEN =Number of Green objects/Total numbers of objects**\n",
    "\n",
    "Since there is a total of 60 objects, 40 of which are GREEN and 20 RED, our prior probabilities for class membership are:\n",
    "\n",
    "Prior Probablity for GREEN=40/60\n",
    "\n",
    " Prior Probablity for RED=20/60\n",
    "\n",
    "\n",
    "![nb2.gif](attachment:dad396ac-30df-482b-99d5-26a411aa4fcd.gif)\n",
    "Having formulated our prior probability, you are now ready to classify a new object (WHITE circle). Since the objects are well clustered, it is reasonable to assume that the more GREEN (or RED) objects in the vicinity of X, the more likely that the new cases belong to that particular color. To measure this likelihood, you draw a circle around X which encompasses a number (to be chosen a priori) of points irrespective of their class labels. Then you calculate the number of points in the circle belonging to each class label. From this you calculate the likelihood.\n",
    "\n",
    " Likelihood of X given GREEN=Number of GREEN in vicinity of X/Total number of GREEN objects\n",
    "\n",
    "Likelihood of X given RED=Number of RED in vicinity of X/Total number of RED objects\n",
    "\n",
    "From the illustration above, it is clear that Likelihood of X given GREEN is smaller than Likelihood of X given RED, since the circle encompasses 1 GREEN object and 3 RED ones. Thus:\n",
    "\n",
    " Probablity of X given GREEN=1/40\n",
    "\n",
    " Probablity of X given RED=3/20\n",
    "\n",
    "Although the prior probabilities indicate that X may belong to GREEN (given that there are twice as many GREEN compared to RED) the likelihood indicates otherwise; that the class membership of X is RED (given that there are more RED objects in the vicinity of X than GREEN). In the Bayesian analysis, the final classification is produced by combining both sources of information, i.e., the prior and the likelihood, to form a posterior probability using the so-called Bayes’ rule (named after Rev. Thomas Bayes 1702-1761).\n",
    "\n",
    "Posterior probability of X being GREEN=Prior probability of GREEN×Likelihood of X given GREEN\n",
    "\n",
    "=4/6×1/40\n",
    "\n",
    "=1/60\n",
    "\n",
    "Posterior probability of X being RED=Prior probability of RED×Likelihood of X given RED\n",
    "\n",
    "=2/6×3/20\n",
    "\n",
    "=1/20"
   ]
  },
  {
   "cell_type": "code",
   "execution_count": null,
   "id": "be0e108d-3f0c-4101-8b18-84ca4d73c64d",
   "metadata": {},
   "outputs": [],
   "source": []
  }
 ],
 "metadata": {
  "kernelspec": {
   "display_name": "Python 3 (ipykernel)",
   "language": "python",
   "name": "python3"
  },
  "language_info": {
   "codemirror_mode": {
    "name": "ipython",
    "version": 3
   },
   "file_extension": ".py",
   "mimetype": "text/x-python",
   "name": "python",
   "nbconvert_exporter": "python",
   "pygments_lexer": "ipython3",
   "version": "3.12.7"
  }
 },
 "nbformat": 4,
 "nbformat_minor": 5
}
