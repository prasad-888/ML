{
 "cells": [
  {
   "cell_type": "markdown",
   "id": "87af0a3c-1115-4bc7-afd4-7dbf168011b5",
   "metadata": {},
   "source": [
    "### Working of Naive Bayes\n",
    "Well if you guessed it to be __Ramesh__ you are correct. Perhaps your reasoning would be the content has words love, great and wonderful that are used by Ramesh.\n",
    "\n",
    "Now let’s add a combination and probability in the data you have. Suppose Ramesh and Suresh uses following words with probabilities as show below in the table. Now, can you guess who is the sender for the content : __\"wonderful love\"__\n",
    "\n",
    "__Ramesh(word[probablity])__\n",
    "__Love [0.1]\n",
    "Wonderful [0.1]\n",
    "Great [0.8]__\n",
    "\n",
    "\n",
    "\n",
    "__Suresh(word[probablity])\n",
    "Wonderful [0.5]\n",
    "Love [0.3]\n",
    "Deal[0.3]__\n",
    "\n",
    "Now what do you think?\n",
    "\n",
    "If you guessed it to be __Suresh__, you are correct. If you know mathematics behind it, good for you. If not, don’t worry you will check that out here.\n",
    "\n",
    "__Bayes Theorem__\n",
    "__P(A|B)=(P(B|A).P(A))/P(B)__\n",
    "It tells us how often A happens given that B happens, written P(A|B), when you know how often B happens given that A happens, written P(B|A), and how likely A and B are on their own.\n",
    "\n",
    "- P(A|B) is “Probability of A given B”, the probability of A given that B happens.\n",
    "\n",
    "- P(A) is Probability of A.\n",
    "\n",
    "- P(B|A) is “Probability of B given A”, the probability of B given that A happens.\n",
    "\n",
    "P(B) is Probability of B.\n",
    "\n",
    "Let’s say When P(Fire) means how often there is fire, and P(Smoke) means how often you see smoke, then:\n",
    "\n",
    "- P(Fire|Smoke) means how often there is fire when you see smoke.\n",
    "\n",
    "- P(Smoke|Fire) means how often you see smoke when there is fire.\n",
    "\n",
    "Now can you apply this to out Ramesh and Suresh example? Let's see this next."
   ]
  },
  {
   "cell_type": "code",
   "execution_count": null,
   "id": "d2a91ff0-4f3b-49c1-88ff-bf72c8b593f5",
   "metadata": {},
   "outputs": [],
   "source": []
  }
 ],
 "metadata": {
  "kernelspec": {
   "display_name": "Python 3 (ipykernel)",
   "language": "python",
   "name": "python3"
  },
  "language_info": {
   "codemirror_mode": {
    "name": "ipython",
    "version": 3
   },
   "file_extension": ".py",
   "mimetype": "text/x-python",
   "name": "python",
   "nbconvert_exporter": "python",
   "pygments_lexer": "ipython3",
   "version": "3.12.7"
  }
 },
 "nbformat": 4,
 "nbformat_minor": 5
}
