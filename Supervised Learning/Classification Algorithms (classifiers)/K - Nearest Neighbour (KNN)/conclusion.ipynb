{
 "cells": [
  {
   "cell_type": "markdown",
   "id": "c0e5ca76-0188-44cc-8052-41f264c96434",
   "metadata": {},
   "source": [
    "### KNN is a beginner-friendly algorithm that’s surprisingly powerful for many applications. Whether you’re classifying flowers or predicting house prices, KNN offers a simple yet effective solution. As you advance, you’ll explore methods to optimize KNN and overcome its limitations. For now, celebrate your first step into the fascinating world of machine learning!\n",
    "\n",
    "Questionnaire\n",
    "What f(x) does KNN uses to find relation between features and labels?\n",
    "\n",
    "How does KNN algorithm works?\n",
    "\n",
    "When to use which distance formula?\n",
    "\n",
    "How to choose the value of KK?\n",
    "\n",
    " \n",
    "Further reading\n",
    "Below are some good links that cover the KNN algorithm from a basic perspective.\n",
    "\n",
    "[kNN source code documentation](http://scikit-learn.org/stable/modules/generated/sklearn.neighbors.KNeighborsClassifier.html)\n",
    "\n",
    "[K-Nearest Neighbors on Wikipedia](https://en.wikipedia.org/wiki/K-nearest_neighbors_algorithm)"
   ]
  },
  {
   "cell_type": "code",
   "execution_count": null,
   "id": "41299bf3-fbac-48a8-a0c9-ef8b2ef42346",
   "metadata": {},
   "outputs": [],
   "source": []
  }
 ],
 "metadata": {
  "kernelspec": {
   "display_name": "Python 3 (ipykernel)",
   "language": "python",
   "name": "python3"
  },
  "language_info": {
   "codemirror_mode": {
    "name": "ipython",
    "version": 3
   },
   "file_extension": ".py",
   "mimetype": "text/x-python",
   "name": "python",
   "nbconvert_exporter": "python",
   "pygments_lexer": "ipython3",
   "version": "3.12.7"
  }
 },
 "nbformat": 4,
 "nbformat_minor": 5
}
