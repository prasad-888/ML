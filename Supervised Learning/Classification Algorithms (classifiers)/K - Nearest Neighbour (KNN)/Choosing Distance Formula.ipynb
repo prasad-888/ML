{
 "cells": [
  {
   "cell_type": "markdown",
   "id": "a02fc474-0893-4673-88b6-b1aca8e87e4c",
   "metadata": {},
   "source": [
    "### Distance Metrics: The Heart of KNN\n",
    "To measure the closeness or similarity between points, KNN relies on distance metrics. These are formulas that calculate how far apart two points are in the feature space. Here are some common metrics:\n",
    "\n",
    "Euclidean Distance: This is the straight-line distance between two points. If all your features are measured in the same unit, this is often the go-to choice.\n",
    "\n",
    "Formula: d=(x1−x2)2+(y1−y2)2−−−−−−−−−−−−−−−−−−√\n",
    "\n",
    "Manhattan Distance: Also known as the \"taxicab\" distance, this calculates the sum of absolute differences. It’s ideal when features have different units.\n",
    "\n",
    "Formula:d=|x1−x2|+|y1−y2|\n",
    "\n",
    "Hamming Distance: Used for categorical data, this counts the number of differing elements.\n",
    "Minkowski Distance: A generalized form that includes both Euclidean (when p=2) and Manhattan (when p=1) distances. Also known as the \"taxicab\" distance, this calculates the sum of absolute differences. It’s ideal when features have different units.\n",
    "Formula:  d(x,y)=(∑ni=1|xi−yi|p)1p\n",
    "\n",
    "Cosine Similarity: Measures the angle between two vectors. This is useful for text or high-dimensional data.\n",
    "Choosing the right distance metric depends on the nature of your data. Experimentation often helps identify the best fit."
   ]
  },
  {
   "cell_type": "code",
   "execution_count": null,
   "id": "e2976a6c-8e9d-4e08-96be-7240187bea4d",
   "metadata": {},
   "outputs": [],
   "source": []
  }
 ],
 "metadata": {
  "kernelspec": {
   "display_name": "Python 3 (ipykernel)",
   "language": "python",
   "name": "python3"
  },
  "language_info": {
   "codemirror_mode": {
    "name": "ipython",
    "version": 3
   },
   "file_extension": ".py",
   "mimetype": "text/x-python",
   "name": "python",
   "nbconvert_exporter": "python",
   "pygments_lexer": "ipython3",
   "version": "3.12.7"
  }
 },
 "nbformat": 4,
 "nbformat_minor": 5
}
