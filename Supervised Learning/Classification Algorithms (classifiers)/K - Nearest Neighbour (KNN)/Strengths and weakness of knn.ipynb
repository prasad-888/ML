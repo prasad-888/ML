{
 "cells": [
  {
   "cell_type": "markdown",
   "id": "cffe7e5d-6de4-4c71-ae9c-d276e1f95ec1",
   "metadata": {},
   "source": [
    "### Strengths of KNN\n",
    "Simplicity: Easy to understand and implement.\n",
    "\n",
    "Versatility: Works well with both classification and regression problems.\n",
    "\n",
    "No Training Phase: KNN doesn’t require training, making it ideal for quick analysis.\n",
    "\n",
    "Multiclass Capability: Handles multiclass classification with ease.\n",
    "\n",
    " \n",
    "Weaknesses of KNN\n",
    "Computational Cost: As the dataset grows, the time required to calculate distances increases exponentially.\n",
    "\n",
    "High-Dimensional Data: The curse of dimensionality can degrade performance.\n",
    "\n",
    "Imbalanced Classes: A class with more points can dominate predictions, leading to bias."
   ]
  },
  {
   "cell_type": "code",
   "execution_count": null,
   "id": "2b3db423-5e27-49f0-b37c-5cdcc5542ea6",
   "metadata": {},
   "outputs": [],
   "source": []
  }
 ],
 "metadata": {
  "kernelspec": {
   "display_name": "Python 3 (ipykernel)",
   "language": "python",
   "name": "python3"
  },
  "language_info": {
   "codemirror_mode": {
    "name": "ipython",
    "version": 3
   },
   "file_extension": ".py",
   "mimetype": "text/x-python",
   "name": "python",
   "nbconvert_exporter": "python",
   "pygments_lexer": "ipython3",
   "version": "3.12.7"
  }
 },
 "nbformat": 4,
 "nbformat_minor": 5
}
