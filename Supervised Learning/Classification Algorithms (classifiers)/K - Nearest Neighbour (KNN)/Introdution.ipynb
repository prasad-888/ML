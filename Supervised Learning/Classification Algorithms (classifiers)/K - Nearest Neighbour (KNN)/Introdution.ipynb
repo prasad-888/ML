{
 "cells": [
  {
   "cell_type": "markdown",
   "id": "237954f0-c851-41cd-9f54-66c5606df337",
   "metadata": {},
   "source": [
    "### Introduction\n",
    "Imagine you walk into a room full of strangers, and your task is to find people who might share similar interests with you. What would you do? You might look for people who are talking about topics you enjoy, wearing clothing that reflects your hobbies, or holding items that resonate with your interests. This is a natural way we humans classify and group people. The K-Nearest Neighbors (KNN) algorithm does something similar in the world of machine learning.\n",
    "\n",
    "KNN assumes that similar things exist in close proximity. This proximity can be physical, logical, or based on specific features. KNN follows the philosophy, “Tell me who your friends are, and I will tell you who you are.” It identifies the closest data points to make predictions about a new or unknown data point. Let’s dive into how this works and uncover the magic behind this simple yet powerful algorithm.\n"
   ]
  },
  {
   "cell_type": "code",
   "execution_count": null,
   "id": "018423ed-1635-40d7-8e72-399d0428e5c5",
   "metadata": {},
   "outputs": [],
   "source": []
  },
  {
   "cell_type": "code",
   "execution_count": null,
   "id": "27b53de3-2b0c-4b61-8afd-3b71a1d5a7e4",
   "metadata": {},
   "outputs": [],
   "source": []
  }
 ],
 "metadata": {
  "kernelspec": {
   "display_name": "Python 3 (ipykernel)",
   "language": "python",
   "name": "python3"
  },
  "language_info": {
   "codemirror_mode": {
    "name": "ipython",
    "version": 3
   },
   "file_extension": ".py",
   "mimetype": "text/x-python",
   "name": "python",
   "nbconvert_exporter": "python",
   "pygments_lexer": "ipython3",
   "version": "3.12.7"
  }
 },
 "nbformat": 4,
 "nbformat_minor": 5
}
